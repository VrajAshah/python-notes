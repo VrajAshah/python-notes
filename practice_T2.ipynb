{
 "cells": [
  {
   "cell_type": "code",
   "execution_count": null,
   "metadata": {},
   "outputs": [],
   "source": [
    "# list of integer return indies of two number such that they add upto a specific target you may assume that every inputwould \n",
    "# have one solution  and you may not use same element twice\n",
    "\n",
    "l=[2,7,11,11]\n",
    "l1=[]\n",
    "flag=False\n",
    "for i in range(0,len(l)-1):\n",
    "    for j in range(1,len(l)):\n",
    "        if(i !=j) :\n",
    "            if l[i]+l[j]==22:\n",
    "                l1.append(i)\n",
    "                l1.append(j)\n",
    "                print(l1)\n",
    "                flag=True\n",
    "                break\n",
    "            else:\n",
    "                continue\n",
    "    if flag==True:\n",
    "        break\n",
    "if flag==False:\n",
    "    print(-1)\n",
    "        "
   ]
  },
  {
   "cell_type": "code",
   "execution_count": 10,
   "metadata": {},
   "outputs": [
    {
     "name": "stdout",
     "output_type": "stream",
     "text": [
      "[[0, 1, 3, 6], [2, 4], [5, 7, 8]]\n",
      "4\n",
      "1\n"
     ]
    }
   ],
   "source": [
    "# to find min window in a given string which will contain all characters of another given string \n",
    "s1='aababcacc'\n",
    "s2='abc'\n",
    "l=[]\n",
    "first_index=0\n",
    "\n",
    "for i in s2:\n",
    "    l1=[]\n",
    "    for j in range(0,len(s1)):\n",
    "        if i==s1[j]:\n",
    "            l1.append(j)\n",
    "    l.append(l1)\n",
    "\n",
    "print(l)\n",
    "min_occur=len(l[0])\n",
    "print(min_occur)\n",
    "\n",
    "for i in range(0,len(l)):\n",
    "    if len(l[i])<min_occur:\n",
    "        min_occur=i\n",
    "print(min_occur)\n",
    "\n",
    "for i in l:\n",
    "    "
   ]
  },
  {
   "cell_type": "code",
   "execution_count": null,
   "metadata": {},
   "outputs": [],
   "source": []
  },
  {
   "cell_type": "code",
   "execution_count": null,
   "metadata": {},
   "outputs": [],
   "source": []
  }
 ],
 "metadata": {
  "kernelspec": {
   "display_name": "Python 3",
   "language": "python",
   "name": "python3"
  },
  "language_info": {
   "codemirror_mode": {
    "name": "ipython",
    "version": 3
   },
   "file_extension": ".py",
   "mimetype": "text/x-python",
   "name": "python",
   "nbconvert_exporter": "python",
   "pygments_lexer": "ipython3",
   "version": "3.10.8"
  }
 },
 "nbformat": 4,
 "nbformat_minor": 2
}

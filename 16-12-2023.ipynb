{
 "cells": [
  {
   "cell_type": "code",
   "execution_count": 20,
   "metadata": {},
   "outputs": [
    {
     "name": "stdout",
     "output_type": "stream",
     "text": [
      "One hundred "
     ]
    }
   ],
   "source": [
    "d={0:'Zero',1:'One',2:'Two',3:'Three',4:'Four',5:'Five',6:'Six',7:'Seven',8:'Eight',9:'Nine',10:'Ten',11:'Eleven',12:'Twelve',13:'Thirteen',14:'Fourteen',15:'Fifteen',16:'Sixteen',17:'Seventeen',18:'Eighteen',19:'Nineteen',20:'Twenty',30:'Thirty',40:'Fourty',50:'Fifty',60:'Sixty',70:'Seventy',80:'Eighty',90:'Ninety',100:'Hundred'}\n",
    "\n",
    "n = int(input('Enter number'))\n",
    "if n<21:\n",
    "    print(d[n])\n",
    "elif n<100:\n",
    "    temp=n%10\n",
    "    if temp==0:\n",
    "        print(d[n])\n",
    "    else:\n",
    "        print(d[n-temp],end=' ')\n",
    "        print(d[temp],end=' ')\n",
    "elif n<1000:\n",
    "    hundreds=n//100\n",
    "    print(d[hundreds],'hundred',end=' ')\n",
    "    tens_ones=n%100\n",
    "    if tens_ones==0:\n",
    "        pass\n",
    "    elif tens_ones<21:\n",
    "        print(d[tens_ones])\n",
    "    elif tens_ones<100:\n",
    "        temp1=n%10\n",
    "        print(d[tens_ones-temp1],end=' ')\n",
    "        print(d[temp1],end=' ')\n",
    "\n",
    "    "
   ]
  },
  {
   "cell_type": "code",
   "execution_count": 26,
   "metadata": {},
   "outputs": [
    {
     "ename": "TypeError",
     "evalue": "'int' object is not callable",
     "output_type": "error",
     "traceback": [
      "\u001b[1;31m---------------------------------------------------------------------------\u001b[0m",
      "\u001b[1;31mTypeError\u001b[0m                                 Traceback (most recent call last)",
      "Cell \u001b[1;32mIn[26], line 4\u001b[0m\n\u001b[0;32m      1\u001b[0m l\u001b[38;5;241m=\u001b[39m[\u001b[38;5;241m5\u001b[39m,\u001b[38;5;241m5\u001b[39m,\u001b[38;5;241m2\u001b[39m,\u001b[38;5;241m5\u001b[39m,\u001b[38;5;241m8\u001b[39m]\n\u001b[1;32m----> 4\u001b[0m \u001b[38;5;28;01mfor\u001b[39;00m i \u001b[38;5;129;01min\u001b[39;00m \u001b[38;5;28mrange\u001b[39m(\u001b[38;5;241m0\u001b[39m,\u001b[38;5;28;43mlen\u001b[39;49m\u001b[43m(\u001b[49m\u001b[43ml\u001b[49m\u001b[43m)\u001b[49m\u001b[38;5;241m+\u001b[39m\u001b[38;5;241m1\u001b[39m):\n\u001b[0;32m      5\u001b[0m     sumeven\u001b[38;5;241m=\u001b[39m\u001b[38;5;241m0\u001b[39m\n\u001b[0;32m      6\u001b[0m     sumodd\u001b[38;5;241m=\u001b[39m\u001b[38;5;241m0\u001b[39m\n",
      "\u001b[1;31mTypeError\u001b[0m: 'int' object is not callable"
     ]
    }
   ],
   "source": [
    "l=[5,5,2,5,8]\n",
    "\n",
    "\n",
    "for i in range(0,len(l)+1):\n",
    "    sumeven=0\n",
    "    sumodd=0\n",
    "    print(l[i],end='')\n",
    "    for j in range(0,len(l)+1,2):\n",
    "        if j==i:\n",
    "            continue\n",
    "        else:\n",
    "            sumeven+=l[j]\n",
    "    for j in range(1,len(l)+1,2):\n",
    "        if j==i:\n",
    "            continue\n",
    "        else:\n",
    "            sumodd+=l[j]\n",
    "    if sumeven==sunodd:\n",
    "        print(':Special number')\n",
    "    \n",
    "\n",
    "    #s[::2]==s[1::2]"
   ]
  },
  {
   "cell_type": "code",
   "execution_count": null,
   "metadata": {},
   "outputs": [],
   "source": []
  }
 ],
 "metadata": {
  "kernelspec": {
   "display_name": "Python 3",
   "language": "python",
   "name": "python3"
  },
  "language_info": {
   "codemirror_mode": {
    "name": "ipython",
    "version": 3
   },
   "file_extension": ".py",
   "mimetype": "text/x-python",
   "name": "python",
   "nbconvert_exporter": "python",
   "pygments_lexer": "ipython3",
   "version": "3.10.8"
  }
 },
 "nbformat": 4,
 "nbformat_minor": 2
}

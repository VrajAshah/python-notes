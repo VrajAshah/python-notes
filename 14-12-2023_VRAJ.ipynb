{
 "cells": [
  {
   "cell_type": "code",
   "execution_count": 18,
   "metadata": {},
   "outputs": [
    {
     "name": "stdout",
     "output_type": "stream",
     "text": [
      "1\n",
      "{'a': 10, 'b': 20, 'c': 3}\n",
      "{'b': 20, 'c': 3}\n",
      "{'b': 20, 'c': 3, 'd': 20}\n",
      "20\n"
     ]
    }
   ],
   "source": [
    "d={'a':1,'b':20,'c':3}\n",
    "print(d['a'])\n",
    "d['a']=10\n",
    "print(d)\n",
    "del d['a']\n",
    "print(d)\n",
    "d['d']=20\n",
    "print(d)\n",
    "print(d['d'])\n"
   ]
  },
  {
   "cell_type": "code",
   "execution_count": 31,
   "metadata": {},
   "outputs": [
    {
     "name": "stdout",
     "output_type": "stream",
     "text": [
      "{'b': 20, 'c': 3, 'd': 20, 1: 50, 2: 50, 3: 50}\n",
      "{'b': 20, 'c': 3, 'd': 20, 1: 50, 2: 50, 3: 50}\n",
      "{1: 50, 2: 50, 3: 50}\n",
      "customized message\n",
      "20\n",
      "{'b': 20, 'c': 3, 'd': 20, 1: 50, 2: 50, 3: 50}\n",
      "False\n"
     ]
    }
   ],
   "source": [
    "#\"print(sorted(d))\n",
    "print(d)\n",
    "\n",
    "#d.clear()\n",
    "#print(d)\n",
    "\n",
    "d1=d.copy()\n",
    "print(d1)\n",
    "\n",
    "seq=[1,2,3]\n",
    "d1=d.fromkeys(seq,50)\n",
    "print(d1)\n",
    "\n",
    "print(d.get('z','customized message'))\n",
    "print(d.get('b','customized message'))\n",
    "\n",
    "d.update(d1)\n",
    "print(d)\n",
    "\n",
    "print('a' in d)\n",
    "\n"
   ]
  },
  {
   "cell_type": "code",
   "execution_count": 37,
   "metadata": {},
   "outputs": [
    {
     "name": "stdout",
     "output_type": "stream",
     "text": [
      "b : 20,c : 3,d : 20,1 : 50,2 : 50,3 : 50,"
     ]
    }
   ],
   "source": [
    "for key,value in d.items():\n",
    "    print(key,':',value,end=',')"
   ]
  },
  {
   "cell_type": "code",
   "execution_count": 40,
   "metadata": {},
   "outputs": [
    {
     "name": "stdout",
     "output_type": "stream",
     "text": [
      "{1: 1, 2: 4, 3: 9, 4: 16, 5: 25}\n",
      "{1: 1, 2: 4, 3: 9, 4: 16, 5: 25}\n"
     ]
    }
   ],
   "source": [
    "a={}\n",
    "for i in range(1,6):\n",
    "    a1={i:i**2}\n",
    "    a.update(a1)\n",
    "print(a)\n",
    "\n",
    "s={x:x*x for x in range(1,6)}\n",
    "print(s)"
   ]
  },
  {
   "cell_type": "code",
   "execution_count": 17,
   "metadata": {},
   "outputs": [
    {
     "name": "stdout",
     "output_type": "stream",
     "text": [
      "{2, 3, 68, 5, 4, 6, 9}\n",
      "{2, 3, 4}\n",
      "{2, 3, 4, 20}\n",
      "None\n",
      "{1, 2, 3, 4, 5, 6, 7}\n",
      "{3, 4, 5, 6, 7}\n",
      "{1, 2}\n",
      "False\n",
      "{1, 2}\n",
      "True\n"
     ]
    }
   ],
   "source": [
    "A=[68,9,2,2,3,5,4,2,5,6]\n",
    "B=set(A)\n",
    "print(B)\n",
    "\n",
    "A=set()\n",
    "A.update([2,3,4])\n",
    "print(A)\n",
    "\n",
    "A.add(20)\n",
    "print(A)\n",
    "\n",
    "print(A.discard(50))\n",
    "#A.remove(50)\n",
    "\n",
    "A={1,2,3,4,5,6,7}\n",
    "B={3,4,5,6,7}\n",
    "print(A.union(B))#A|B\n",
    "print(A.intersection(B))#A&B\n",
    "print(A.difference(B))#A-B\n",
    "print(A.isdisjoint(B))\n",
    "print(A.symmetric_difference(B))#A^B\n",
    "print(A.issuperset(B))\n"
   ]
  },
  {
   "cell_type": "code",
   "execution_count": 19,
   "metadata": {},
   "outputs": [
    {
     "name": "stdout",
     "output_type": "stream",
     "text": [
      "frozenset({1, 2, 3})\n",
      "frozenset({4, 5})\n"
     ]
    }
   ],
   "source": [
    "A=frozenset([1,2,3])\n",
    "B=frozenset([4,5])\n",
    "print(A)\n",
    "print(B)"
   ]
  },
  {
   "cell_type": "code",
   "execution_count": null,
   "metadata": {},
   "outputs": [],
   "source": []
  }
 ],
 "metadata": {
  "kernelspec": {
   "display_name": "Python 3",
   "language": "python",
   "name": "python3"
  },
  "language_info": {
   "codemirror_mode": {
    "name": "ipython",
    "version": 3
   },
   "file_extension": ".py",
   "mimetype": "text/x-python",
   "name": "python",
   "nbconvert_exporter": "python",
   "pygments_lexer": "ipython3",
   "version": "3.10.8"
  }
 },
 "nbformat": 4,
 "nbformat_minor": 2
}

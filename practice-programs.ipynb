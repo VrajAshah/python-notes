{
 "cells": [
  {
   "cell_type": "code",
   "execution_count": null,
   "metadata": {},
   "outputs": [],
   "source": [
    "# write all integerr sol of x**2-2y**2=1 for the values of x,y between 1 and 100\n",
    "for x in range(1,101):\n",
    "    for y in range(1,101):\n",
    "        if((x**2-2*(y**2)==1)):\n",
    "            print(f'X={x} and Y={y}')"
   ]
  },
  {
   "cell_type": "code",
   "execution_count": null,
   "metadata": {},
   "outputs": [],
   "source": [
    "#amount of change for 1$ and its prints out \n",
    "#exactly denomination that will be needed for thw change\n",
    "#quarter=25cent\n",
    "#dime=10cent\n",
    "#nicket=5cent\n",
    "#penny=1cent\n",
    "dollar=float(input('Enter dollars to get change'))\n",
    "if(dollar<1):\n",
    "    dollar=int(dollar*100)\n",
    "    temp=dollar//25\n",
    "    if(temp>=1):\n",
    "        dollar=dollar-(25*temp)\n",
    "        print(f'quarter={temp}')\n",
    "    else:\n",
    "        print('quarter=0')\n",
    "    temp=dollar//10\n",
    "    if(temp>=1):\n",
    "        dollar=dollar-(10*temp)\n",
    "        print(f'dime={temp}')\n",
    "    else:\n",
    "        print('dime=0')\n",
    "    temp=dollar//5\n",
    "    if(temp>=1):\n",
    "        dollar=dollar-(5*temp)\n",
    "        print(f'nickel={temp}')\n",
    "    else:\n",
    "        print('nickel=0')\n",
    "    temp=dollar//1\n",
    "    if(temp>=1):\n",
    "        dollar=dollar-temp\n",
    "        print(f'penny={temp}')\n",
    "    else:\n",
    "        print('penny=0')\n",
    "else:\n",
    "    print('Wrong input')"
   ]
  },
  {
   "cell_type": "code",
   "execution_count": null,
   "metadata": {},
   "outputs": [],
   "source": [
    "#you put 1 rupee in bank(Monday) everyday from next day (Tuesday to Sunday) you put one rupees more \n",
    "#than the day before and on every subsequent Monday you will put in one rupees more than\n",
    "#previous monday .If you have number N find total amount of Money you will have in the bank\n",
    "#at the end of Nth day\n",
    "N=int(input('Enter N'))\n",
    "def moneyatBank(N):\n",
    "    weeks=N//7\n",
    "    days=N%7\n",
    "    amount=0.0\n",
    "    if(weeks>=1):\n",
    "        for i in range(1,weeks+1):\n",
    "            for j in [1]:\n",
    "                firstterm=i\n",
    "                lastterm=i+6\n",
    "#                 for k in range(firstterm,lastterm+1):\n",
    "#                     print(k)\n",
    "                amount+=(7*(firstterm+lastterm)/2)\n",
    "        firstterm=weeks+1\n",
    "        lastterm=firstterm+days-1\n",
    "#         for k in range(firstterm,lastterm+1):\n",
    "#             print(k)\n",
    "        amount+=(days*(firstterm+lastterm)/2)     \n",
    "    else:\n",
    "#         for k in range(firstterm,lastterm+1):\n",
    "#             print(k)\n",
    "        firstterm=1\n",
    "        lastterm=firstterm+days\n",
    "        amount+=(days*(firstterm+lastterm)/2)\n",
    "    print(amount)\n",
    "moneyatBank(N)"
   ]
  },
  {
   "cell_type": "code",
   "execution_count": null,
   "metadata": {},
   "outputs": [],
   "source": [
    "#ask user for 10 test score \n",
    "# 1 print average \n",
    "# 2 print second largest score\n",
    "# 3 if any score is greater than 100 then after all scores have been entered print warning\n",
    "# 4 drop the lowest two scores and print the average of rest of them\n",
    "err=0\n",
    "total=0\n",
    "temp=0\n",
    "largest=0\n",
    "seclargest=0\n",
    "firstlowest=0\n",
    "secondlowest=0\n",
    "for i in range(10):\n",
    "    marks=int(input('Enter marks'))\n",
    "    if(marks>100):\n",
    "        err+=1\n",
    "   \n",
    "   \n",
    "    \n",
    "    if(seclargest<largest):\n",
    "        if(marks>seclargest):\n",
    "            if(marks<largest):\n",
    "                seclargest=marks\n",
    "            else:\n",
    "                seclargest=largest\n",
    "            \n",
    "    if(marks>largest):\n",
    "        largest=marks\n",
    "    total+=marks\n",
    "    \n",
    "if(err>0):\n",
    "    print('SCORE MORE THAN 100 FOUND')\n",
    "else:\n",
    "    avg=total/10\n",
    "    print(f'Average={avg}')\n",
    "    print(f'Second largest={seclargest}')"
   ]
  },
  {
   "cell_type": "code",
   "execution_count": null,
   "metadata": {},
   "outputs": [],
   "source": [
    "#18/20---->9/10\n",
    "\n",
    "def fraction(x,y):\n",
    "    count=1\n",
    "   \n",
    "    if(x>y):\n",
    "        min=y\n",
    "    else:\n",
    "        min=x\n",
    "    for i in (2,min+1):\n",
    "        if x%i==0:\n",
    "            if y%i==0:\n",
    "                x=x//i\n",
    "                y=y//i\n",
    "                \n",
    "                fraction(x,y)\n",
    "                count+=1\n",
    "            else:\n",
    "                continue\n",
    "        else:\n",
    "            continue\n",
    "    print(x,y)\n",
    "       \n",
    "\n"
   ]
  },
  {
   "cell_type": "code",
   "execution_count": null,
   "metadata": {},
   "outputs": [],
   "source": [
    "fraction(5,25)"
   ]
  },
  {
   "cell_type": "code",
   "execution_count": null,
   "metadata": {},
   "outputs": [],
   "source": [
    "#disarium number\n",
    "#if the sum of its digits raised to their respective position is the number itself\n",
    "def disaruim"
   ]
  },
  {
   "cell_type": "code",
   "execution_count": null,
   "metadata": {},
   "outputs": [],
   "source": [
    "#a+aa+aaa+aaaa\n",
    "num=int(input('Enter digit'))\n",
    "sum=0"
   ]
  },
  {
   "cell_type": "code",
   "execution_count": null,
   "metadata": {},
   "outputs": [],
   "source": [
    "#collatz conjection\n",
    "#repeadely by applying the foll rules to int\n",
    "#if even divide by 2\n",
    "#if odd multiply by 3 and add 1\n",
    "#this algo is tested and found to reach 1 for all positive integers\n",
    "#create a function that takes two positive integers a and b and returns the \n",
    "#a(if a took less steps then b)\n",
    "count=0\n",
    "def collatz(x):\n",
    "    global count\n",
    "    while(x!=1):\n",
    "        count+=1\n",
    "        if x%2==0:\n",
    "            x=x//2\n",
    "        else:\n",
    "            x=(x*3)+1\n",
    "    return count"
   ]
  },
  {
   "cell_type": "code",
   "execution_count": null,
   "metadata": {},
   "outputs": [],
   "source": [
    "print(collatz(6))"
   ]
  },
  {
   "cell_type": "code",
   "execution_count": null,
   "metadata": {},
   "outputs": [],
   "source": [
    "#niven number\n",
    "#divisible by sum of its digit"
   ]
  },
  {
   "cell_type": "code",
   "execution_count": null,
   "metadata": {},
   "outputs": [],
   "source": [
    "#ask the user for an hour between 1 and 12 as them to enter am or pm and ask them how many hours into the future they want to go\n",
    "def timemachine(x,a,y):\n",
    "    if(a=='pm'):\n",
    "        x=x+12\n",
    "    for i in range(1,y+1):\n",
    "        x+=1\n",
    "        if x==24:\n",
    "            x=0\n",
    "    if(x>12):\n",
    "        x=x-12\n",
    "        print(x,'pm')\n",
    "    else:\n",
    "        print(x,'am')"
   ]
  },
  {
   "cell_type": "code",
   "execution_count": null,
   "metadata": {},
   "outputs": [],
   "source": [
    "timemachine(6,'pm',12)"
   ]
  },
  {
   "cell_type": "code",
   "execution_count": null,
   "metadata": {},
   "outputs": [],
   "source": [
    "#squarefree\n",
    "#it is not divisible by any perfect square other than 1 for instance 42 is square free number and not 45\n",
    "count=0\n",
    "def squarefree(x):\n",
    "    global count\n",
    "    for i in range(2,x//2):\n",
    "        y=i**2\n",
    "        if x%y==0:\n",
    "            count=1\n",
    "            break\n",
    "    if count==0:\n",
    "        print('Square free number')\n",
    "    else:\n",
    "        print('Not a square free number')\n"
   ]
  },
  {
   "cell_type": "code",
   "execution_count": null,
   "metadata": {},
   "outputs": [],
   "source": [
    "squarefree(45)"
   ]
  },
  {
   "cell_type": "code",
   "execution_count": null,
   "metadata": {},
   "outputs": [],
   "source": [
    "##happy number\n",
    "##starting with any positive integer replace the number by the sum of square of its digit and repeat the process\n",
    "##until the number either equals 1 or it loops endlessly which does not include 1\n",
    "\n",
    "def happy(num):\n",
    "    temp=num\n",
    "    sum=0\n",
    "    if num==1 :\n",
    "        print(' is Happy number')\n",
    "    elif num==4:\n",
    "        print('not a happy number')\n",
    "    else:\n",
    "        while num!=0:\n",
    "            temp=num%10\n",
    "            sum=sum+(temp*temp)\n",
    "            num=num//10\n",
    "        \n",
    "        happy(sum)\n",
    "\n"
   ]
  },
  {
   "cell_type": "code",
   "execution_count": null,
   "metadata": {
    "scrolled": false
   },
   "outputs": [],
   "source": [
    "for i in range(1,101):\n",
    "    print(i)\n",
    "    happy(i)"
   ]
  },
  {
   "cell_type": "code",
   "execution_count": null,
   "metadata": {},
   "outputs": [],
   "source": [
    "#hardy ramanujan number\n",
    "for i in range(1,21):\n",
    "    for j in range(1,21):\n",
    "        if i==j:\n",
    "            continue\n",
    "        else:\n",
    "            sum=(i**3)+(j**3)\n",
    "        for k in range(1,21):\n",
    "            for l in range(1,21):\n",
    "                if k==l or k==i or k==j or l==i or l==j:\n",
    "                    continue\n",
    "                else:\n",
    "                    sum1=(k**3)+(l**3)\n",
    "                if sum1==sum:\n",
    "                    print(f'{i},{j}=={k},{l}')\n",
    "                    print(sum)"
   ]
  },
  {
   "cell_type": "code",
   "execution_count": null,
   "metadata": {},
   "outputs": [],
   "source": [
    "def ncr(n,r):\n",
    "    num=1\n",
    "    den=1\n",
    "    for i in range(0,r):\n",
    "        num=num*n\n",
    "        n=n-1\n",
    "        den=den*r\n",
    "        r=r-1\n",
    "    ans=int(num/den)\n",
    "    print(ans)"
   ]
  },
  {
   "cell_type": "code",
   "execution_count": null,
   "metadata": {},
   "outputs": [],
   "source": [
    "ncr(4,4)"
   ]
  },
  {
   "cell_type": "code",
   "execution_count": null,
   "metadata": {},
   "outputs": [],
   "source": [
    "#tribonacci series\n",
    "#0 0 1 1 2 4 7 13 24\n",
    "a=0\n",
    "b=0\n",
    "c=1\n",
    "\n",
    "\n",
    "for i in range(4,21):\n",
    "    d=a+b+c\n",
    "    a=b\n",
    "    b=c\n",
    "    c=d\n",
    "    if i==18:\n",
    "        print(d)\n",
    "    "
   ]
  },
  {
   "cell_type": "code",
   "execution_count": null,
   "metadata": {},
   "outputs": [],
   "source": [
    "#strong number\n",
    "#sum of its individual digit raised to the factorial power is the number itself\n",
    "def factorial(num):\n",
    "    fact=1\n",
    "    for i in range(1,num+1):\n",
    "        fact=fact*i\n",
    "    return fact\n",
    "\n",
    "\n",
    "for i in range(1,501):\n",
    "    temp=i\n",
    "    sum=0\n",
    "    while i!=0:\n",
    "        sum=sum+factorial(i%10)\n",
    "        i=i//10\n",
    "    if temp==sum:\n",
    "        print(temp)\n",
    "        "
   ]
  },
  {
   "cell_type": "code",
   "execution_count": null,
   "metadata": {},
   "outputs": [],
   "source": [
    "#AMICABLE NUMBER\n",
    "#pair of number whose factors and accordingly thir sum is the other number in the pair\n",
    "def amicable(num):\n",
    "    sum=0\n",
    "    for i in range(1,num//2+1):\n",
    "        if(num%i==0):\n",
    "            sum=sum+i\n",
    "    return sum\n",
    "        \n",
    "for i in range(1,501):\n",
    "    sum1=amicable(i)\n",
    "    temp=amicable(sum1)\n",
    "    if temp==i and sum1!=i:\n",
    "        print(sum1,i)"
   ]
  },
  {
   "cell_type": "code",
   "execution_count": 1,
   "metadata": {},
   "outputs": [
    {
     "name": "stdout",
     "output_type": "stream",
     "text": [
      "-1000\n"
     ]
    }
   ],
   "source": [
    "#1-2+3-4+5-6....-2000\n",
    "sum=0\n",
    "for i in range(1,2001):\n",
    "    if i%2==0:\n",
    "        sum=sum-i\n",
    "    else:\n",
    "        sum=sum+i\n",
    "print(sum)"
   ]
  },
  {
   "cell_type": "code",
   "execution_count": 2,
   "metadata": {},
   "outputs": [],
   "source": [
    "#pronic number\n",
    "#product of consecutive number"
   ]
  },
  {
   "cell_type": "code",
   "execution_count": 20,
   "metadata": {},
   "outputs": [
    {
     "name": "stdout",
     "output_type": "stream",
     "text": [
      "   /\\ \n",
      "  /  \\ \n",
      " /    \\ \n",
      "/      \\ \n"
     ]
    }
   ],
   "source": [
    "for i in range(4,0,-1):\n",
    "    for j in range(i,0,-1):\n",
    "        if(j==1):\n",
    "            print('/',end='')\n",
    "        else:\n",
    "            print(' ',end='')\n",
    "    print(' '*2*(4-i),end='')\n",
    "    for k in (1,i+1):\n",
    "        if(k==1):\n",
    "            print('\\\\',end='')\n",
    "        else:\n",
    "            print(' ',end='')\n",
    "    print()"
   ]
  },
  {
   "cell_type": "code",
   "execution_count": 30,
   "metadata": {},
   "outputs": [
    {
     "name": "stdout",
     "output_type": "stream",
     "text": [
      "   /\\    /\\    /\\ \n",
      "  /  \\   /  \\   /  \\ \n",
      " /    \\  /    \\  /    \\ \n",
      "/      \\ /      \\ /      \\ \n"
     ]
    }
   ],
   "source": [
    "        for i in range(4,0,-1):\n",
    "            for l in range(3):\n",
    "                for j in range(i,0,-1):\n",
    "                    if(j==1):\n",
    "                        print('/',end='')\n",
    "                    else:\n",
    "                        print(' ',end='')\n",
    "                print(' '*2*(4-i),end='')\n",
    "                for k in (1,i+1):\n",
    "                    if(k==1):\n",
    "                        print('\\\\',end='')\n",
    "                    else:\n",
    "                        print(' ',end='')\n",
    "            print()"
   ]
  },
  {
   "cell_type": "code",
   "execution_count": null,
   "metadata": {},
   "outputs": [],
   "source": []
  }
 ],
 "metadata": {
  "kernelspec": {
   "display_name": "Python 3",
   "language": "python",
   "name": "python3"
  },
  "language_info": {
   "codemirror_mode": {
    "name": "ipython",
    "version": 3
   },
   "file_extension": ".py",
   "mimetype": "text/x-python",
   "name": "python",
   "nbconvert_exporter": "python",
   "pygments_lexer": "ipython3",
   "version": "3.8.5"
  }
 },
 "nbformat": 4,
 "nbformat_minor": 4
}

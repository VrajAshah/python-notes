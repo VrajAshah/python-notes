{
 "cells": [
  {
   "cell_type": "code",
   "execution_count": 25,
   "metadata": {},
   "outputs": [
    {
     "name": "stdout",
     "output_type": "stream",
     "text": [
      "[]\n",
      "0\n",
      "[0, 2, 4]\n",
      "2973237510352\n",
      "2973237510384\n",
      "5\n",
      "[1, 2, 3, 5, 4]\n",
      "[[0, 1], [1, 0], [3, 4]]\n",
      "[[1, 0], [3, 4], [0, 1]]\n",
      "[[1, 0], [3, 4], [0, 1], 'hello', 100]\n",
      "[[1, 0], [3, 4], [0, 1], 'hello', 100, 200]\n",
      "[[1, 0], [3, 4], [0, 1], 'hello', 100, 200, 'h', 'e', 'l', 'l', 'o']\n",
      "[[1, 0], [3, 4], [0, 1], 'hello', 100, 200, 'h', 'e', 'l', 'l', 'o', 'hello']\n",
      "[[1, 0], [3, 4], [0, 1], 'c#', 'hello', 100, 200, 'h', 'e', 'l', 'l', 'o', 'hello']\n",
      "[[1, 0], [3, 4], 'c#', 'hello', 100, 200, 'h', 'e', 'l', 'l', 'o', 'hello']\n",
      "[3, 4]\n",
      "hello\n",
      "[[1, 0], 'c#', 'hello', 100, 200, 'h', 'e', 'l', 'l', 'o']\n",
      "['o', 'l', 'l', 'e', 'h', 200, 100, 'hello', 'c#', [1, 0]]\n",
      "[1, 2, 3, 45]\n",
      "[45, 3, 2, 1]\n",
      "[1, 2, 3, 45]\n"
     ]
    }
   ],
   "source": [
    "x=[]*10\n",
    "print(x)\n",
    "type(x)\n",
    "\n",
    "x=[0,1,2,3,4]\n",
    "print(x[0])\n",
    "print(x[0:6:2])\n",
    "print(id(x[0]))\n",
    "print(id(x[1]))\n",
    "del(x[3])\n",
    "x=[1,2,3,5,4]\n",
    "print(x[3])\n",
    "print(x[0: :1])\n",
    "x=[[1,0],[3,4],[0,1]]\n",
    "print(sorted(x))\n",
    "print(x)\n",
    "\n",
    "x.append('hello')\n",
    "x.append(100)\n",
    "print(x)\n",
    "\n",
    "x.extend([200])\n",
    "print(x)\n",
    "x.extend('hello')\n",
    "print(x)\n",
    "x.extend(['hello'])\n",
    "print(x)\n",
    "\n",
    "x.insert(3,'c#')\n",
    "print(x)\n",
    "\n",
    "x.remove([0,1])\n",
    "print(x)\n",
    "\n",
    "print(x.pop(1))\n",
    "print(x.pop())\n",
    "print(x)\n",
    "\n",
    "#print(x.clear())\n",
    "#print(x)\n",
    "\n",
    "#x.sort()\n",
    "#print(x)\n",
    "\n",
    "x.reverse()\n",
    "print(x)\n",
    "x=[1,2,3,45]\n",
    "reversed(x)\n",
    "print(x)\n",
    "\n",
    "print(list(reversed(x)))\n",
    "print(x)\n",
    "\n",
    "\n"
   ]
  },
  {
   "cell_type": "code",
   "execution_count": 43,
   "metadata": {},
   "outputs": [
    {
     "name": "stdout",
     "output_type": "stream",
     "text": [
      "a,b,c,d,e,f,g,h,i,j,k,l,m,n,o,p,q,r,s,t,u,v,w,x,y,z\n",
      "omlhw hqj\n",
      "omlhw hqj"
     ]
    }
   ],
   "source": [
    "#claser cipher\n",
    "import string\n",
    "intab='a,b,c,d,e,f,g,h,i,j,k,l,m,n,o,p,q,r,s,t,u,v,w,x,y,z'\n",
    "outab='d,e,f,g,h,i,j,k,l,m,n,o,p,q,r,s,t,u,v,w,x,y,z,c,d,e'\n",
    "print(intab)\n",
    "my='ljiet eng'\n",
    "table=my.maketrans(intab,outab)\n",
    "print(my.translate(table))\n",
    "\n",
    "\n",
    "\n",
    "alpha='abcdefghijklmnopqrstuvwxyz'\n",
    "for i in my:\n",
    "    if i in alpha:\n",
    "        if i=='x':\n",
    "            print('a',end='')\n",
    "        elif i=='y':\n",
    "            print('b',end='')\n",
    "        elif i=='z':\n",
    "            print('c',end='')\n",
    "        else:\n",
    "            x=alpha.find(i)\n",
    "            print(alpha[x+3],end='')\n",
    "    else:\n",
    "        print(i,end='')"
   ]
  },
  {
   "cell_type": "code",
   "execution_count": 50,
   "metadata": {},
   "outputs": [
    {
     "name": "stdout",
     "output_type": "stream",
     "text": [
      "0 4\n",
      "1 5\n",
      "45\n"
     ]
    }
   ],
   "source": [
    "#shift numbers\n",
    "number='12345'\n",
    "length=len(number)\n",
    "shift=3\n",
    "x=number[shift:length+1]\n",
    "x=x+number[0:shift]\n",
    "print(x)\n"
   ]
  },
  {
   "cell_type": "code",
   "execution_count": 53,
   "metadata": {},
   "outputs": [
    {
     "name": "stdout",
     "output_type": "stream",
     "text": [
      "this  is    python\n",
      "3\n"
     ]
    }
   ],
   "source": [
    "#count number of words in a given string without using split\n",
    "abc='   this  is    python     '\n",
    "abc=abc.strip()\n",
    "print(abc)\n",
    "count=0\n",
    "length=len(abc)\n",
    "for i in range(length):\n",
    "    if abc[i]==' ':\n",
    "        if abc[i-1]==' ':\n",
    "            continue\n",
    "        else:\n",
    "            count+=1\n",
    "    else:\n",
    "        continue\n",
    "print(count+1)"
   ]
  },
  {
   "cell_type": "code",
   "execution_count": null,
   "metadata": {},
   "outputs": [],
   "source": []
  }
 ],
 "metadata": {
  "kernelspec": {
   "display_name": "Python 3",
   "language": "python",
   "name": "python3"
  },
  "language_info": {
   "codemirror_mode": {
    "name": "ipython",
    "version": 3
   },
   "file_extension": ".py",
   "mimetype": "text/x-python",
   "name": "python",
   "nbconvert_exporter": "python",
   "pygments_lexer": "ipython3",
   "version": "3.10.8"
  }
 },
 "nbformat": 4,
 "nbformat_minor": 2
}
